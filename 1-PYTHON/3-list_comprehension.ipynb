{
 "cells": [
  {
   "cell_type": "markdown",
   "metadata": {},
   "source": [
    "Imagine you have a box of Legos, and you want to build a new spaceship out of only the red ones. List comprehension in Python is like a cool machine that sorts through your Legos (lists) and picks out the ones you want (creates a new list) based on your instructions.\n",
    "\n",
    "---\n",
    "\n",
    "##### Here's how it works in Python:\n",
    "\n",
    "1. Building Block: Looping through the Legos (List)\n",
    "\n",
    "- You already know loops, right? We use them to go through each item in a list. List comprehension uses a similar idea, but in a shorter way.\n",
    "\n",
    "---\n",
    "\n",
    "2. Grabbing the Legos (Elements):\n",
    "\n",
    "- We use a variable like x to represent each Lego (element) as we go through the box (list).\n",
    "\n",
    "---\n",
    "\n",
    "3. Sorting the Legos (Expression):\n",
    "\n",
    "This is where the magic happens! You tell the machine what to do with each Lego. Here are some examples:\n",
    "\n",
    "- Keeping the Same Legos: ```[x for x in Legos]```: This just picks up each Lego and puts it in a new box (list), without any changes.\n",
    "\n",
    "- Making New Legos: ```[x * 2 for x in Legos]```: This is like having a machine that builds double-sized Legos! It multiplies each Lego's size (value) by 2 and puts it in the new box.\n",
    "\n",
    "- Picking Specific Legos (Conditional): ```[x for x in Legos if x == \"red\"]```: This is like having a filter. It only picks the Legos that are red (meet the condition) and puts them in the new box.\n",
    "\n",
    "---\n",
    "\n",
    "##### Putting it all Together:\n",
    "\n",
    "The general format for list comprehension looks like this:\n",
    "\n",
    "```lua\n",
    "new_list = [expression for element in original_list if condition]\n",
    "```"
   ]
  },
  {
   "cell_type": "markdown",
   "metadata": {},
   "source": [
    "- new_list: This is the name of your new box (list) that will hold the sorted Legos.\n",
    "- expression: This is what you do to each Lego (element).\n",
    "- element: This is the variable that represents each Lego as you go through the original list.\n",
    "- original_list: This is your original box of Legos (list).\n",
    "- condition (optional): This is like a filter, you can add it to pick only certain Legos."
   ]
  },
  {
   "cell_type": "markdown",
   "metadata": {},
   "source": [
    "---\n",
    "\n",
    "#### Examples:\n",
    "\n",
    "1. Squaring Numbers:"
   ]
  },
  {
   "cell_type": "code",
   "execution_count": 1,
   "metadata": {},
   "outputs": [
    {
     "name": "stdout",
     "output_type": "stream",
     "text": [
      "[1, 4, 9, 16]\n"
     ]
    }
   ],
   "source": [
    "numbers = [1, 2, 3, 4]\n",
    "squared_numbers = [x * x for x in numbers]\n",
    "print(squared_numbers)  # Output: [1, 4, 9, 16]\n"
   ]
  },
  {
   "cell_type": "markdown",
   "metadata": {},
   "source": [
    "2. Finding Even Numbers:"
   ]
  },
  {
   "cell_type": "code",
   "execution_count": 3,
   "metadata": {},
   "outputs": [
    {
     "name": "stdout",
     "output_type": "stream",
     "text": [
      "[2, 4]\n"
     ]
    }
   ],
   "source": [
    "numbers = [1, 2, 3, 4, 5]\n",
    "even_numbers = [x for x in numbers if x % 2 == 0]\n",
    "print(even_numbers)  # Output: [2, 4]\n"
   ]
  },
  {
   "cell_type": "markdown",
   "metadata": {},
   "source": []
  }
 ],
 "metadata": {
  "kernelspec": {
   "display_name": "mlpython3.8",
   "language": "python",
   "name": "python3"
  },
  "language_info": {
   "codemirror_mode": {
    "name": "ipython",
    "version": 3
   },
   "file_extension": ".py",
   "mimetype": "text/x-python",
   "name": "python",
   "nbconvert_exporter": "python",
   "pygments_lexer": "ipython3",
   "version": "3.8.19"
  }
 },
 "nbformat": 4,
 "nbformat_minor": 2
}

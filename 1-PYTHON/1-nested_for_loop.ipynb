{
 "cells": [
  {
   "cell_type": "markdown",
   "metadata": {},
   "source": [
    "Imagine you have a box of chocolates with different flavors. You want to try each chocolate and see if your friend likes them too. Here's how a nested loop can help!\n",
    "\n",
    "---\n",
    "\n",
    "#### What is a nested for loop?\n",
    "\n",
    "It's like putting a smaller loop inside a bigger loop. The bigger loop (outer loop) runs a certain number of times, and each time it runs, it completely executes the smaller loop (inner loop).\n",
    "\n",
    "#### Example with Chocolate Box:\n",
    "\n",
    "1. Outer Loop (Big Box): This loop represents going through each chocolate in the big box.\n",
    "2. Inner Loop (Small Chocolates): This loop represents trying each sub-bars within each of the chocolate (pretend there are multiple bars in one chocolate!).\n",
    "\n",
    "\n",
    "##### Here's the code:"
   ]
  },
  {
   "cell_type": "code",
   "execution_count": 1,
   "metadata": {},
   "outputs": [
    {
     "name": "stdout",
     "output_type": "stream",
     "text": [
      "Opening Chocolate 1\n",
      "Trying flavor 1\n",
      "Trying flavor 2\n",
      "Trying flavor 3\n",
      "Great!\n",
      "Opening Chocolate 2\n",
      "Trying flavor 1\n",
      "Trying flavor 2\n",
      "Trying flavor 3\n",
      "Great!\n",
      "Opening Chocolate 3\n",
      "Trying flavor 1\n",
      "Trying flavor 2\n",
      "Trying flavor 3\n",
      "Maybe next one!\n"
     ]
    }
   ],
   "source": [
    "# Number of chocolates in the box\n",
    "chocolates = 3\n",
    "\n",
    "# Loop through each chocolate (outer loop)\n",
    "for chocolate in range(chocolates):\n",
    "  print(f\"Opening Chocolate {chocolate + 1}\")  # +1 to start counting at 1\n",
    "\n",
    "  # Inner loop (pretend sub-bars inside)\n",
    "  for flavor in range(3):  # Let's say 3 sub-bars each chocolate\n",
    "    print(f\"Trying flavor {flavor + 1}\")\n",
    "  \n",
    "  # Maybe your friend says something after each chocolate\n",
    "  friend_opinion = input(\"Does your friend like it? (yes/no) \")\n",
    "  if friend_opinion == \"yes\":\n",
    "    print(\"Great!\")\n",
    "  else:\n",
    "    print(\"Maybe next one!\")\n"
   ]
  },
  {
   "cell_type": "markdown",
   "metadata": {},
   "source": [
    "#### How it works:\n",
    "\n",
    "1. The outer loop runs 3 times (number of chocolates).\n",
    "2. Inside each chocolate (iteration), the inner loop runs 3 times (number of flavors).\n",
    "3. So, it prints \"Opening Chocolate...\" and then \"Trying flavor...\" for each flavor, 3 times in total.\n",
    "4. You can then ask your friend's opinion and react accordingly.\n",
    "\n",
    "\n",
    "#### Remember:\n",
    "\n",
    "- The inner loop restarts completely for each outer loop iteration.\n",
    "- You can use variables like chocolate and flavor inside the loops to keep track of your position.\n",
    "\n"
   ]
  },
  {
   "cell_type": "markdown",
   "metadata": {},
   "source": []
  }
 ],
 "metadata": {
  "kernelspec": {
   "display_name": "mlpython3.8",
   "language": "python",
   "name": "python3"
  },
  "language_info": {
   "codemirror_mode": {
    "name": "ipython",
    "version": 3
   },
   "file_extension": ".py",
   "mimetype": "text/x-python",
   "name": "python",
   "nbconvert_exporter": "python",
   "pygments_lexer": "ipython3",
   "version": "3.8.19"
  }
 },
 "nbformat": 4,
 "nbformat_minor": 2
}

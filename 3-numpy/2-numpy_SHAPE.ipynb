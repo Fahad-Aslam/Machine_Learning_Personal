{
 "cells": [
  {
   "cell_type": "markdown",
   "metadata": {},
   "source": [
    "In NumPy, arrays have shapes and dimensions, which tell you how many elements are arranged in the array.\n",
    "\n",
    "---\n",
    "\n",
    "#### Shapes: Sizes of Your Team Formation\n",
    "\n",
    "Think of the shape of a NumPy array as the size and organization of your snake block team. A one-dimensional array is like a simple line of blocks:"
   ]
  },
  {
   "cell_type": "code",
   "execution_count": 4,
   "metadata": {},
   "outputs": [
    {
     "name": "stdout",
     "output_type": "stream",
     "text": [
      "(4,)\n"
     ]
    }
   ],
   "source": [
    "import numpy as np\n",
    "\n",
    "# One-dimensional array, like a line of blocks\n",
    "line_of_blocks = np.array([1, 2, 3, 4])\n",
    "print(line_of_blocks.shape)  # This will output (4,)\n",
    "\n",
    "# The comma indicates a single dimension with 4 elements\n"
   ]
  },
  {
   "cell_type": "markdown",
   "metadata": {},
   "source": [
    "A two-dimensional array is like a rectangle of blocks, with rows and col"
   ]
  },
  {
   "cell_type": "code",
   "execution_count": 2,
   "metadata": {},
   "outputs": [
    {
     "name": "stdout",
     "output_type": "stream",
     "text": [
      "(2, 3)\n"
     ]
    }
   ],
   "source": [
    "# Two-dimensional array, like a rectangle of blocks\n",
    "block_rectangle = np.array([[1, 2, 3], [4, 5, 6]])\n",
    "print(block_rectangle.shape)  # This will output (2, 3)\n",
    "\n",
    "# This means 2 rows and 3 columns\n"
   ]
  },
  {
   "cell_type": "markdown",
   "metadata": {},
   "source": [
    "You can even have higher-dimensional arrays, like a 3D block structure!\n",
    "\n",
    "---\n",
    "\n",
    "#### Dimensions: How Many Lines Make the Team?\n",
    "\n",
    "The number of dimensions in a NumPy array tells you how many levels of organization you have. A one-dimensional array has one dimension (the line of blocks), and a two-dimensional array has two dimensions (rows and columns).\n",
    "\n",
    "---\n",
    "\n",
    "\n",
    "#### Reshaping: Changing Your Team's Formation\n",
    "\n",
    "NumPy allows you to reshape your arrays as long as the total number of elements stays the same. Imagine rearranging your snake blocks to form different shapes:"
   ]
  },
  {
   "cell_type": "code",
   "execution_count": 5,
   "metadata": {},
   "outputs": [
    {
     "name": "stdout",
     "output_type": "stream",
     "text": [
      "[1 2 3 4 5 6]\n",
      "(6,)\n"
     ]
    }
   ],
   "source": [
    "# Reshaping the block rectangle into a line\n",
    "line_from_rectangle = block_rectangle.reshape(6)  # 6 is the total number of elements\n",
    "print(line_from_rectangle)\n",
    "print(line_from_rectangle.shape)  # This will output (6,)\n",
    "\n",
    "# Rows become stacked one after another to form the new line\n"
   ]
  },
  {
   "cell_type": "markdown",
   "metadata": {},
   "source": [
    "---\n",
    "\n",
    "#### Caution: Reshaping Doesn't Create Copies (Usually)\n",
    "\n",
    "Reshaping generally modifies the original array in-place, so be careful not to accidentally overwrite something you need!"
   ]
  },
  {
   "cell_type": "code",
   "execution_count": null,
   "metadata": {},
   "outputs": [],
   "source": []
  },
  {
   "cell_type": "code",
   "execution_count": null,
   "metadata": {},
   "outputs": [],
   "source": []
  }
 ],
 "metadata": {
  "kernelspec": {
   "display_name": "mlpython3.8",
   "language": "python",
   "name": "python3"
  },
  "language_info": {
   "codemirror_mode": {
    "name": "ipython",
    "version": 3
   },
   "file_extension": ".py",
   "mimetype": "text/x-python",
   "name": "python",
   "nbconvert_exporter": "python",
   "pygments_lexer": "ipython3",
   "version": "3.8.19"
  }
 },
 "nbformat": 4,
 "nbformat_minor": 2
}

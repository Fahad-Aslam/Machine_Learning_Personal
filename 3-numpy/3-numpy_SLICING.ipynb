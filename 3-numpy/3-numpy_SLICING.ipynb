{
 "cells": [
  {
   "cell_type": "markdown",
   "metadata": {},
   "source": [
    "NumPy slicing is a powerful tool for extracting specific portions of data from your NumPy arrays. It's like taking slices of bread from a loaf to make a sandwich! Here's a breakdown of how it works:\n",
    "\n",
    "---\n",
    "\n",
    "#### Basic Slicing:\n",
    "\n",
    "Imagine a NumPy array as a loaf of bread, with each element like an individual piece. You can use square brackets [] and colons : to select specific parts:\n",
    "\n",
    "**Selecting a single element**: arr[index]. \n",
    "- Just like picking one slice, you provide the index of the element you want (remember indexing starts from 0).\n",
    "\n",
    "**Selecting a range of elements**: arr[start:stop]. \n",
    "- This gets a continuous sequence of elements, similar to taking multiple slices in a row. Here, start indicates the index of the first element to include (inclusive), and stop indicates the index of the element to exclude (exclusive).\n",
    "\n",
    "**Selecting all elements up to a certain point**: arr[:stop].\n",
    "- If you omit the starting index, it defaults to the beginning (index 0). So, arr[:4] selects the first four elements.\n",
    "\n",
    "**Selecting all elements from a certain point onwards:** arr[start:]. \n",
    "- If you omit the ending index, it selects everything up to the end. So, arr[3:] selects elements from index 3 to the end.\n",
    "\n",
    "---\n",
    "\n",
    "#### Example:"
   ]
  },
  {
   "cell_type": "code",
   "execution_count": 4,
   "metadata": {},
   "outputs": [
    {
     "name": "stdout",
     "output_type": "stream",
     "text": [
      "20\n",
      "[30 40 50 60]\n",
      "[10 20 30 40]\n"
     ]
    }
   ],
   "source": [
    "import numpy as np\n",
    "\n",
    "# Create a sample array\n",
    "arr = np.array([10, 20, 30, 40, 50, 60])\n",
    "\n",
    "# Get the second element (index 1)\n",
    "second_element = arr[1]\n",
    "print(second_element)  # Output: 20\n",
    "\n",
    "# Get a slice from the 3rd element (index 2) to the end\n",
    "sliced_arr = arr[2:]\n",
    "print(sliced_arr)  # Output: [30 40 50 60]\n",
    "\n",
    "# Get all elements up to the 4th element (not including the 4th)\n",
    "first_four = arr[:4]\n",
    "print(first_four)  # Output: [10 20 30 40]\n"
   ]
  },
  {
   "cell_type": "markdown",
   "metadata": {},
   "source": [
    "---\n",
    "\n",
    "#### Slicing with Steps:\n",
    "\n",
    "You can also specify a step size to pick elements at regular intervals. Imagine taking every other slice of bread for a toast.\n",
    "\n",
    "**Selecting with step:** arr[start:stop:step]. \n",
    "- Here, step indicates how many elements to jump between in the selection. For example, arr[::2] gets every other element, similar to taking slices at every other position.\n",
    "\n",
    "\n",
    "\n",
    "#### Example:"
   ]
  },
  {
   "cell_type": "code",
   "execution_count": 5,
   "metadata": {},
   "outputs": [
    {
     "name": "stdout",
     "output_type": "stream",
     "text": [
      "[10 30 50]\n"
     ]
    }
   ],
   "source": [
    "# Get every other element from the beginning\n",
    "every_other = arr[::2]\n",
    "print(every_other)  # Output: [10 30 50]\n"
   ]
  },
  {
   "cell_type": "markdown",
   "metadata": {},
   "source": [
    "---\n",
    "\n",
    "#### Slicing Multidimensional Arrays:\n",
    "\n",
    "NumPy arrays can have more than one dimension (like a multi-layered cake!). Slicing works similarly, but you provide separate slices for each dimension:\n",
    "\n",
    "**2D array (like a sheet cake):** arr[row_slice, column_slice]. \n",
    "- You specify slices for rows and columns to extract a sub-array.\n",
    "\n",
    "\n",
    "\n",
    "#### Example (assuming a 2D array arr):"
   ]
  },
  {
   "cell_type": "code",
   "execution_count": 8,
   "metadata": {},
   "outputs": [
    {
     "name": "stdout",
     "output_type": "stream",
     "text": [
      "[4 5 6]\n",
      "[[3]\n",
      " [6]]\n"
     ]
    }
   ],
   "source": [
    "# Get elements from the second row (index 1) and all columns\n",
    "arr_2d = np.array([[1, 2, 3], [4, 5, 6]])\n",
    "second_row = arr_2d[1, :]\n",
    "print(second_row)  # Output: (all elements from the second row)\n",
    "\n",
    "# Get elements from the first two rows (0 and 1) and columns 2 and 3 (inclusive)\n",
    "sub_array = arr_2d[:2, 2:4]\n",
    "print(sub_array)  # Output: (2x2 sub-array containing elements from specified rows and columns)\n"
   ]
  },
  {
   "cell_type": "markdown",
   "metadata": {},
   "source": [
    "Remember, slicing creates a view of the original data by default. Changes to the sliced portion can affect the original array. If you want a copy, use .copy()."
   ]
  },
  {
   "cell_type": "code",
   "execution_count": null,
   "metadata": {},
   "outputs": [],
   "source": []
  }
 ],
 "metadata": {
  "kernelspec": {
   "display_name": "mlpython3.8",
   "language": "python",
   "name": "python3"
  },
  "language_info": {
   "codemirror_mode": {
    "name": "ipython",
    "version": 3
   },
   "file_extension": ".py",
   "mimetype": "text/x-python",
   "name": "python",
   "nbconvert_exporter": "python",
   "pygments_lexer": "ipython3",
   "version": "3.8.19"
  }
 },
 "nbformat": 4,
 "nbformat_minor": 2
}

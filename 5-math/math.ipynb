{
 "cells": [
  {
   "cell_type": "markdown",
   "metadata": {},
   "source": [
    " The math library in Python is like a toolbox full of cool functions for doing all sorts of fun calculations. Let's see some of the easy-to-use ones:\n",
    "\n",
    " ---\n",
    "\n",
    " #### Calculator in your code:\n",
    "\n",
    "Imagine you want to write a program to find the area of a circle. With the math library, you can do this! Here's how:"
   ]
  },
  {
   "cell_type": "code",
   "execution_count": 1,
   "metadata": {},
   "outputs": [
    {
     "name": "stdout",
     "output_type": "stream",
     "text": [
      "Area of the circle: 78.53981633974483\n"
     ]
    }
   ],
   "source": [
    "import math\n",
    "\n",
    "# pi is a constant value (like a fixed number) from the math library\n",
    "pi = math.pi\n",
    "\n",
    "# Here's the radius of your circle (replace 5 with any number you want)\n",
    "radius = 5\n",
    "\n",
    "# Area of a circle is pi * radius * radius\n",
    "area = pi * radius * radius\n",
    "\n",
    "# Print the area\n",
    "print(\"Area of the circle:\", area)\n"
   ]
  },
  {
   "cell_type": "markdown",
   "metadata": {},
   "source": [
    "In this code, we first import the math library. Then, we use math.pi to get the value of pi (which is approximately 3.14). We set the radius (which is the distance from the center to the edge of the circle) and then use the formula pi * radius * radius to find the area. Finally, we print the area.\n",
    "\n",
    "---"
   ]
  },
  {
   "cell_type": "markdown",
   "metadata": {},
   "source": [
    "#### Fun with Numbers:\n",
    "\n",
    "The math library also has functions that play with numbers in different ways. Let's see a few:\n",
    "\n",
    "##### Rounding Numbers:"
   ]
  },
  {
   "cell_type": "code",
   "execution_count": 5,
   "metadata": {},
   "outputs": [
    {
     "name": "stdout",
     "output_type": "stream",
     "text": [
      "3\n",
      "2\n"
     ]
    }
   ],
   "source": [
    "import math\n",
    "\n",
    "# This number is between 2 and 3\n",
    "number = 2.7\n",
    "\n",
    "# math.ceil() rounds a number UP to the nearest whole number\n",
    "number_up = math.ceil(number)  # number_up will be 3\n",
    "print(number_up)\n",
    "\n",
    "# math.floor() rounds a number DOWN to the nearest whole number\n",
    "number_down = math.floor(number)  # number_down will be 2\n",
    "print(number_down)\n"
   ]
  },
  {
   "cell_type": "markdown",
   "metadata": {},
   "source": [
    "##### Checking if Numbers are Close:"
   ]
  },
  {
   "cell_type": "code",
   "execution_count": 13,
   "metadata": {},
   "outputs": [
    {
     "name": "stdout",
     "output_type": "stream",
     "text": [
      "True\n"
     ]
    }
   ],
   "source": [
    "import math\n",
    "\n",
    "# Two numbers very close to each other\n",
    "num1 = 1.0000000001\n",
    "num2 = 1.0\n",
    "\n",
    "# math.isclose() checks if two numbers are very close (considering small errors)\n",
    "# You can set a small tolerance value as the second argument (optional)\n",
    "are_close = math.isclose(num1, num2)  # are_close will be True\n",
    "print(are_close)\n"
   ]
  },
  {
   "cell_type": "markdown",
   "metadata": {},
   "source": [
    "---\n",
    "\n",
    "##### Finding Powers and Roots:\n",
    "\n",
    "Powers: The math.pow(a, b) function calculates a raised to the power of b."
   ]
  },
  {
   "cell_type": "code",
   "execution_count": 14,
   "metadata": {},
   "outputs": [
    {
     "name": "stdout",
     "output_type": "stream",
     "text": [
      "3 raised to the power of 4 is 81.0\n"
     ]
    }
   ],
   "source": [
    "import math\n",
    "\n",
    "base = 3\n",
    "exponent = 4\n",
    "\n",
    "# 3 to the power of 4 (3 * 3 * 3 * 3)\n",
    "result = math.pow(base, exponent)\n",
    "print(base, \"raised to the power of\", exponent, \"is\", result)\n"
   ]
  },
  {
   "cell_type": "markdown",
   "metadata": {},
   "source": [
    "Roots: The math.sqrt(x) function calculates the square root of a number x."
   ]
  },
  {
   "cell_type": "code",
   "execution_count": 15,
   "metadata": {},
   "outputs": [
    {
     "name": "stdout",
     "output_type": "stream",
     "text": [
      "Square root of 16 is 4.0\n"
     ]
    }
   ],
   "source": [
    "import math\n",
    "\n",
    "number = 16\n",
    "\n",
    "# Square root of 16\n",
    "square_root = math.sqrt(number)\n",
    "print(\"Square root of\", number, \"is\", square_root)\n"
   ]
  },
  {
   "cell_type": "markdown",
   "metadata": {},
   "source": [
    "---\n",
    "\n",
    "#### Working with Angles (in Radians):\n",
    "\n",
    "The math library includes functions for working with angles in radians. Note that degrees can be converted to radians using math.radians(degrees) and vice versa using math.degrees(radians).\n",
    "\n",
    "Sine (sin): math.sin(angle) calculates the sine of an angle."
   ]
  },
  {
   "cell_type": "code",
   "execution_count": 16,
   "metadata": {},
   "outputs": [
    {
     "name": "stdout",
     "output_type": "stream",
     "text": [
      "Sine of 30 degrees: 0.49999999999999994\n"
     ]
    }
   ],
   "source": [
    "import math\n",
    "\n",
    "angle_in_radians = math.radians(30)  # Convert 30 degrees to radians\n",
    "\n",
    "# Sine of 30 degrees\n",
    "sine_value = math.sin(angle_in_radians)\n",
    "print(\"Sine of 30 degrees:\", sine_value)\n"
   ]
  },
  {
   "cell_type": "markdown",
   "metadata": {},
   "source": [
    "Cosine (cos): math.cos(angle) calculates the cosine of an angle.\n",
    "\n",
    "Tangent (tan): math.tan(angle) calculates the tangent of an angle."
   ]
  },
  {
   "cell_type": "code",
   "execution_count": null,
   "metadata": {},
   "outputs": [],
   "source": []
  }
 ],
 "metadata": {
  "kernelspec": {
   "display_name": "mlpython3.8",
   "language": "python",
   "name": "python3"
  },
  "language_info": {
   "codemirror_mode": {
    "name": "ipython",
    "version": 3
   },
   "file_extension": ".py",
   "mimetype": "text/x-python",
   "name": "python",
   "nbconvert_exporter": "python",
   "pygments_lexer": "ipython3",
   "version": "3.8.19"
  }
 },
 "nbformat": 4,
 "nbformat_minor": 2
}

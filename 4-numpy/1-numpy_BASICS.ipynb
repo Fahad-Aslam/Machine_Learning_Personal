{
 "cells": [
  {
   "cell_type": "markdown",
   "metadata": {},
   "source": [
    "NumPy is the essential library for numerical computations in Python! Think of NumPy as a toolbox specifically designed for working with numbers in a fun and efficient way.\n",
    "\n",
    "Imagine a Snake Block Game, but with Numbers!\n",
    "\n",
    "Regular Python lists can store numbers, but NumPy creates special arrays where all the numbers are of the same kind, like a team with matching uniforms. This makes NumPy arrays super fast for calculations.\n",
    "\n",
    "---\n",
    "\n",
    "#### Here's how to create a NumPy array:"
   ]
  },
  {
   "cell_type": "code",
   "execution_count": 8,
   "metadata": {},
   "outputs": [
    {
     "name": "stdout",
     "output_type": "stream",
     "text": [
      "[ 3  7  9 11]\n"
     ]
    }
   ],
   "source": [
    "import numpy as np  # Importing NumPy, like bringing the toolbox\n",
    "\n",
    "# Creating an array of your favorite numbers (all numbers are integers here)\n",
    "numbers_array = np.array([3, 7, 9, 11])\n",
    "\n",
    "# Printing the array, like showing your team\n",
    "print(numbers_array)\n"
   ]
  },
  {
   "cell_type": "markdown",
   "metadata": {},
   "source": [
    "---\n",
    "\n",
    "#### Accessing Elements: Like Picking Numbers from Your Team\n",
    "\n",
    "You can access specific numbers in the array using square brackets [] with their position, just like picking a player from your team by their jersey number:"
   ]
  },
  {
   "cell_type": "code",
   "execution_count": 2,
   "metadata": {},
   "outputs": [
    {
     "name": "stdout",
     "output_type": "stream",
     "text": [
      "7\n"
     ]
    }
   ],
   "source": [
    "# Get the second number (remember counting starts from 0)\n",
    "second_number = numbers_array[1]\n",
    "print(second_number)  # This will output 7\n"
   ]
  },
  {
   "cell_type": "markdown",
   "metadata": {},
   "source": [
    "---\n",
    "\n",
    "#### Slicing: Choosing Parts of the Team\n",
    "\n",
    "Imagine you want the first two numbers to tackle a challenge. NumPy slicing lets you grab a portion of the array using a colon ::"
   ]
  },
  {
   "cell_type": "code",
   "execution_count": 3,
   "metadata": {},
   "outputs": [
    {
     "name": "stdout",
     "output_type": "stream",
     "text": [
      "[3 7]\n"
     ]
    }
   ],
   "source": [
    "# Get the first two numbers (0th and 1st position)\n",
    "first_two = numbers_array[0:2]  # colon means \"up to, but not including\" the end index\n",
    "print(first_two)  # This will output [3 7]\n"
   ]
  },
  {
   "cell_type": "markdown",
   "metadata": {},
   "source": [
    "---\n",
    "\n",
    "#### Superpowers: Mathematical Operations on the Whole Team!\n",
    "\n",
    "NumPy shines when you perform operations on the entire array at once. It's like training your whole team together!"
   ]
  },
  {
   "cell_type": "code",
   "execution_count": 4,
   "metadata": {},
   "outputs": [
    {
     "name": "stdout",
     "output_type": "stream",
     "text": [
      "[ 8 12 14 16]\n",
      "[ 6 14 18 22]\n"
     ]
    }
   ],
   "source": [
    "# Add 5 to all the numbers (element-wise addition)\n",
    "added_array = numbers_array + 5\n",
    "print(added_array)  # This will output [8 12 14 16]\n",
    "\n",
    "# Double all the numbers\n",
    "doubled_array = numbers_array * 2\n",
    "print(doubled_array)  # This will output [6 14 18 22]\n"
   ]
  },
  {
   "cell_type": "markdown",
   "metadata": {},
   "source": [
    "---\n",
    "\n",
    "#### Different Types of Teams (Data Types):\n",
    "\n",
    "NumPy can handle different types of numbers, not just integers. You can create arrays of floats (numbers with decimals), booleans (True/False), or even text characters:"
   ]
  },
  {
   "cell_type": "code",
   "execution_count": 5,
   "metadata": {},
   "outputs": [
    {
     "name": "stdout",
     "output_type": "stream",
     "text": [
      "[3.14 2.72]\n",
      "[ True False  True]\n"
     ]
    }
   ],
   "source": [
    "# Array of decimals\n",
    "decimals_array = np.array([3.14, 2.72])\n",
    "print(decimals_array)\n",
    "\n",
    "# Array of True/False (booleans)\n",
    "boolean_array = np.array([True, False, True])\n",
    "print(boolean_array)"
   ]
  },
  {
   "cell_type": "markdown",
   "metadata": {},
   "source": [
    "---\n",
    "\n",
    "#### Bonus Tip: Creating Arrays in Different Ways\n",
    "\n",
    "There are other ways to create NumPy arrays, like using the range function to generate a sequence of numbers:"
   ]
  },
  {
   "cell_type": "code",
   "execution_count": 6,
   "metadata": {},
   "outputs": [
    {
     "name": "stdout",
     "output_type": "stream",
     "text": [
      "[1 2 3 4 5]\n"
     ]
    }
   ],
   "source": [
    "# Array of numbers from 1 to 5 (excluding 6)\n",
    "range_array = np.arange(1, 6)\n",
    "print(range_array)  # This will output [1 2 3 4 5]\n"
   ]
  },
  {
   "cell_type": "code",
   "execution_count": null,
   "metadata": {},
   "outputs": [],
   "source": []
  }
 ],
 "metadata": {
  "kernelspec": {
   "display_name": "mlpython3.8",
   "language": "python",
   "name": "python3"
  },
  "language_info": {
   "codemirror_mode": {
    "name": "ipython",
    "version": 3
   },
   "file_extension": ".py",
   "mimetype": "text/x-python",
   "name": "python",
   "nbconvert_exporter": "python",
   "pygments_lexer": "ipython3",
   "version": "3.8.19"
  }
 },
 "nbformat": 4,
 "nbformat_minor": 2
}

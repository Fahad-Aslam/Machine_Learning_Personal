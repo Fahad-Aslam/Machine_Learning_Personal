{
 "cells": [
  {
   "cell_type": "markdown",
   "metadata": {},
   "source": [
    "Imagine you have a picture, and you want to organize its colors in a different way. NumPy's reshaping function lets you do that with arrays, which store information in a grid-like fashion.\n",
    "\n",
    "---\n",
    "\n",
    "An image can be represented as a NumPy array where each little square (called a pixel) has information about its color. Reshaping lets you change the arrangement of these colors without changing the information itself.\n",
    "\n",
    "#### Here's an example:"
   ]
  },
  {
   "cell_type": "code",
   "execution_count": 23,
   "metadata": {},
   "outputs": [
    {
     "name": "stdout",
     "output_type": "stream",
     "text": [
      "Original shape of the image array: (3, 4, 3)\n",
      "Shape of the flattened image array: (36,)\n",
      "Shape of the image array after reshaping back: (3, 4, 3)\n"
     ]
    }
   ],
   "source": [
    "import numpy as np\n",
    "\n",
    "# This line creates a small image with 3 rows (height) and 4 columns (width)\n",
    "# Each pixel has 3 values representing Red, Green, and Blue (RGB) colors\n",
    "image_array = np.array([[[100, 100, 100], [200, 200, 200], [300, 300, 300], [150, 150, 150]],\n",
    "                        [[150, 150, 150], [250, 250, 250], [350, 350, 350], [200, 200, 200]],\n",
    "                        [[200, 200, 200], [300, 300, 300], [400, 400, 400], [250, 250, 250]]])\n",
    "\n",
    "# Print the original shape of the image array (3 rows, 3 columns, 3 color channels)\n",
    "print(\"Original shape of the image array:\", image_array.shape)\n",
    "\n",
    "# Reshape the image array to flatten it into a single row\n",
    "flat_image = image_array.reshape(-1)  # -1 tells reshape to infer the size based on other dimensions\n",
    "\n",
    "# Print the shape of the flattened image array (all the colors in one row)\n",
    "print(\"Shape of the flattened image array:\", flat_image.shape)\n",
    "\n",
    "# Reshape the flattened image back to its original shape\n",
    "original_shape_image = flat_image.reshape(image_array.shape)\n",
    "\n",
    "# Print the shape of the image array after reshaping it back to its original shape\n",
    "print(\"Shape of the image array after reshaping back:\", original_shape_image.shape)\n"
   ]
  },
  {
   "cell_type": "code",
   "execution_count": 22,
   "metadata": {},
   "outputs": [
    {
     "data": {
      "image/jpeg": "[encoded data removed]",
      "image/png": "[encoded data removed]",
      "text/plain": [
       "<PIL.Image.Image image mode=RGB size=8x6>"
      ]
     },
     "metadata": {},
     "output_type": "display_data"
    }
   ],
   "source": [
    "# import tensorflow\n",
    "# display(tensorflow.keras.preprocessing.image.array_to_img(image_array,scale=False))\n"
   ]
  },
  {
   "cell_type": "markdown",
   "metadata": {},
   "source": [
    "As you can see, the original array has a shape of (3, 3, 3), which means 3 rows, 3 columns, and 3 color channels (Red, Green, and Blue). Reshaping flattens it into a single row with 27 elements (3 rows x 3 columns x 3 color channels). Finally, reshaping it back brings it back to its original form.\n",
    "\n",
    "---"
   ]
  },
  {
   "cell_type": "markdown",
   "metadata": {},
   "source": [
    "**Specifying the new shape:**\n",
    "\n",
    "Instead of -1, you can define the exact new shape for the array. For example:"
   ]
  },
  {
   "cell_type": "code",
   "execution_count": 32,
   "metadata": {},
   "outputs": [
    {
     "name": "stdout",
     "output_type": "stream",
     "text": [
      "(6, 2, 3)\n"
     ]
    }
   ],
   "source": [
    "new_image_array = image_array.reshape(6,2,3)  # 1 row, 2 columns, 3 elements per mini-array\n",
    "print(new_image_array.shape)  # Output: (6, 2, 3)"
   ]
  },
  {
   "cell_type": "markdown",
   "metadata": {},
   "source": [
    "---\n",
    "\n",
    "**Reshaping to a 1D array (vector):**\n",
    "\n",
    "Flatten the entire array into a single row:"
   ]
  },
  {
   "cell_type": "code",
   "execution_count": 33,
   "metadata": {},
   "outputs": [
    {
     "name": "stdout",
     "output_type": "stream",
     "text": [
      "(36,)\n"
     ]
    }
   ],
   "source": [
    "flat_image = image_array.reshape(-1)\n",
    "print(flat_image.shape)  # Output: (27,)\n"
   ]
  },
  {
   "cell_type": "markdown",
   "metadata": {},
   "source": [
    "---\n",
    "\n",
    "**Reshaping to a 2D matrix:**\n",
    "\n",
    "Combine rows or columns into a single 2D matrix:"
   ]
  },
  {
   "cell_type": "code",
   "execution_count": 34,
   "metadata": {},
   "outputs": [
    {
     "name": "stdout",
     "output_type": "stream",
     "text": [
      "(12, 3)\n",
      "(3, 12)\n"
     ]
    }
   ],
   "source": [
    "# Combine rows into a 2D matrix\n",
    "rows_as_matrix = image_array.reshape(12, 3)  # 9 rows (all rows combined), 3 columns\n",
    "print(rows_as_matrix.shape)  # Output: (9, 3)\n",
    "\n",
    "# Combine columns into a 2D matrix\n",
    "columns_as_matrix = image_array.reshape(3, 12)  # 3 rows, 9 columns (all columns combined)\n",
    "print(columns_as_matrix.shape)  # Output: (3, 9)\n"
   ]
  },
  {
   "cell_type": "markdown",
   "metadata": {},
   "source": [
    "---\n",
    "\n",
    "**Important considerations:**\n",
    "\n",
    "The total number of elements in the array must remain the same after reshaping.\n",
    "If the desired shape isn't mathematically possible (due to unequal total elements), it will result in an error."
   ]
  },
  {
   "cell_type": "markdown",
   "metadata": {},
   "source": [
    "---\n",
    "\n",
    "**Advanced reshaping:**\n",
    "\n",
    "Reshaping with a -1: Use -1 as a placeholder to automatically calculate the missing dimension based on the total number of elements and other defined dimensions.\n",
    "Example:"
   ]
  },
  {
   "cell_type": "code",
   "execution_count": 38,
   "metadata": {},
   "outputs": [
    {
     "name": "stdout",
     "output_type": "stream",
     "text": [
      "(12, 3)\n"
     ]
    },
    {
     "data": {
      "text/plain": [
       "array([[100, 100, 100],\n",
       "       [200, 200, 200],\n",
       "       [300, 300, 300],\n",
       "       [150, 150, 150],\n",
       "       [150, 150, 150],\n",
       "       [250, 250, 250],\n",
       "       [350, 350, 350],\n",
       "       [200, 200, 200],\n",
       "       [200, 200, 200],\n",
       "       [300, 300, 300],\n",
       "       [400, 400, 400],\n",
       "       [250, 250, 250]])"
      ]
     },
     "execution_count": 38,
     "metadata": {},
     "output_type": "execute_result"
    }
   ],
   "source": [
    "# Reshape to have 6 rows and unknown number of columns\n",
    "reshaped_image = image_array.reshape(12, -1)\n",
    "print(reshaped_image.shape)  # Output might be (12, 3) depending on total elements\n",
    "reshaped_image"
   ]
  },
  {
   "cell_type": "markdown",
   "metadata": {},
   "source": [
    "**Reshaping with a higher dimension:**\n",
    "\n",
    "- Create arrays with more than 2 dimensions (useful for 3D data or complex image representations).\n",
    "\n",
    "**Remember:** Experiment with different shapes and visualize the results using libraries like matplotlib to gain a deeper understanding!"
   ]
  }
 ],
 "metadata": {
  "kernelspec": {
   "display_name": "mlpython3.8",
   "language": "python",
   "name": "python3"
  },
  "language_info": {
   "codemirror_mode": {
    "name": "ipython",
    "version": 3
   },
   "file_extension": ".py",
   "mimetype": "text/x-python",
   "name": "python",
   "nbconvert_exporter": "python",
   "pygments_lexer": "ipython3",
   "version": "3.8.19"
  }
 },
 "nbformat": 4,
 "nbformat_minor": 2
}

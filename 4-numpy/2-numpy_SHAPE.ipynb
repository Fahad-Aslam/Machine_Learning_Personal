{
 "cells": [
  {
   "cell_type": "markdown",
   "metadata": {},
   "source": [
    "In NumPy, arrays have shapes and dimensions, which tell you how many elements are arranged in the array.\n",
    "\n",
    "---\n",
    "\n",
    "#### Shapes: Sizes of Your Team Formation\n",
    "\n",
    "Think of the shape of a NumPy array as the size and organization of your snake block team. A one-dimensional array is like a simple line of blocks:"
   ]
  },
  {
   "cell_type": "code",
   "execution_count": 4,
   "metadata": {},
   "outputs": [
    {
     "name": "stdout",
     "output_type": "stream",
     "text": [
      "(4,)\n"
     ]
    }
   ],
   "source": [
    "import numpy as np\n",
    "\n",
    "# One-dimensional array, like a line of blocks\n",
    "line_of_blocks = np.array([1, 2, 3, 4])\n",
    "print(line_of_blocks.shape)  # This will output (4,)\n",
    "\n",
    "# The comma indicates a single dimension with 4 elements\n"
   ]
  },
  {
   "cell_type": "markdown",
   "metadata": {},
   "source": [
    "A two-dimensional array is like a rectangle of blocks, with rows and col"
   ]
  },
  {
   "cell_type": "code",
   "execution_count": 2,
   "metadata": {},
   "outputs": [
    {
     "name": "stdout",
     "output_type": "stream",
     "text": [
      "(2, 3)\n"
     ]
    }
   ],
   "source": [
    "# Two-dimensional array, like a rectangle of blocks\n",
    "block_rectangle = np.array([[1, 2, 3], [4, 5, 6]])\n",
    "print(block_rectangle.shape)  # This will output (2, 3)\n",
    "\n",
    "# This means 2 rows and 3 columns\n"
   ]
  },
  {
   "cell_type": "markdown",
   "metadata": {},
   "source": [
    "You can even have higher-dimensional arrays, like a 3D block structure!\n",
    "\n",
    "---\n",
    "\n",
    "#### Dimensions: How Many Lines Make the Team?\n",
    "\n",
    "The number of dimensions in a NumPy array tells you how many levels of organization you have. A one-dimensional array has one dimension (the line of blocks), and a two-dimensional array has two dimensions (rows and columns).\n",
    "\n",
    "---\n",
    "\n",
    "\n",
    "#### Reshaping: Changing Your Team's Formation\n",
    "\n",
    "NumPy allows you to reshape your arrays as long as the total number of elements stays the same. Imagine rearranging your snake blocks to form different shapes:"
   ]
  },
  {
   "cell_type": "code",
   "execution_count": 5,
   "metadata": {},
   "outputs": [
    {
     "name": "stdout",
     "output_type": "stream",
     "text": [
      "[1 2 3 4 5 6]\n",
      "(6,)\n"
     ]
    }
   ],
   "source": [
    "# Reshaping the block rectangle into a line\n",
    "line_from_rectangle = block_rectangle.reshape(6)  # 6 is the total number of elements\n",
    "print(line_from_rectangle)\n",
    "print(line_from_rectangle.shape)  # This will output (6,)\n",
    "\n",
    "# Rows become stacked one after another to form the new line\n"
   ]
  },
  {
   "cell_type": "markdown",
   "metadata": {},
   "source": [
    "---\n",
    "\n",
    "#### Caution: Reshaping Doesn't Create Copies (Usually)\n",
    "\n",
    "Reshaping generally modifies the original array in-place, so be careful not to accidentally overwrite something you need!\n",
    "\n",
    "---"
   ]
  },
  {
   "cell_type": "markdown",
   "metadata": {},
   "source": [
    "The code np.reshape(tmp, (-1, 3)) uses the np.reshape function in NumPy to reshape an array named tmp into a new shape with two dimensions. Here's a breakdown of what each part does:\n",
    "\n",
    "np.reshape: This is a function from the NumPy library used for reshaping arrays. It takes two arguments:\n",
    "\n",
    "The array to reshape: In this case, it's tmp, which represents a NumPy array you presumably have created earlier in your code.\n",
    "The new desired shape: This is a tuple that specifies the number of elements in each dimension of the reshaped array. Here, the tuple is (-1, 3).\n",
    "(-1, 3): This is the new shape you're defining for the reshaped array. It has two parts:\n",
    "\n",
    "-1: This is a placeholder that tells NumPy to automatically infer the number of elements in the first dimension based on the total number of elements in the original array tmp and the constraint of the second dimension (which is fixed at 3). In other words, NumPy will calculate the number of rows in the reshaped array to ensure all elements from tmp fit into the new two-dimensional structure with three elements per row (column).\n",
    "3: This is the fixed number of elements you want in the second dimension (columns) of the reshaped array. So, each row in the reshaped array will have three elements.\n",
    "Example:\n",
    "\n",
    "Let's say your original array tmp has 12 elements:\n",
    "\n",
    "\n"
   ]
  },
  {
   "cell_type": "code",
   "execution_count": null,
   "metadata": {},
   "outputs": [],
   "source": [
    "tmp = np.array([1, 2, 3, 4, 5, 6, 7, 8, 9, 10, 11, 12])"
   ]
  },
  {
   "cell_type": "markdown",
   "metadata": {},
   "source": [
    "When you apply np.reshape(tmp, (-1, 3)), NumPy will calculate the number of rows needed to fit all 12 elements into columns of three. In this case, it would create a 4x3 array:\n",
    "\n"
   ]
  },
  {
   "cell_type": "code",
   "execution_count": 7,
   "metadata": {},
   "outputs": [],
   "source": [
    "reshaped_tmp = np.array([[1, 2, 3],\n",
    "                        [4, 5, 6],\n",
    "                        [7, 8, 9],\n",
    "                        [10, 11, 12]])"
   ]
  },
  {
   "cell_type": "markdown",
   "metadata": {},
   "source": [
    "\n",
    "Key Points:\n",
    "\n",
    "Using -1 in np.reshape allows for flexibility in reshaping as long as the total number of elements remains the same.\n",
    "The order of the dimensions matters in the new shape tuple. Here, (-1, 3) means rows are adjusted first, followed by columns.\n",
    "I hope this explanation clarifies what np.reshape(tmp, (-1, 3)) does!"
   ]
  },
  {
   "cell_type": "code",
   "execution_count": null,
   "metadata": {},
   "outputs": [],
   "source": []
  },
  {
   "cell_type": "code",
   "execution_count": null,
   "metadata": {},
   "outputs": [],
   "source": []
  }
 ],
 "metadata": {
  "kernelspec": {
   "display_name": "mlpython3.8",
   "language": "python",
   "name": "python3"
  },
  "language_info": {
   "codemirror_mode": {
    "name": "ipython",
    "version": 3
   },
   "file_extension": ".py",
   "mimetype": "text/x-python",
   "name": "python",
   "nbconvert_exporter": "python",
   "pygments_lexer": "ipython3",
   "version": "3.8.19"
  }
 },
 "nbformat": 4,
 "nbformat_minor": 2
}

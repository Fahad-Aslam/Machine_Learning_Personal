{
 "cells": [
  {
   "cell_type": "markdown",
   "metadata": {},
   "source": [
    "Imagine you have two sets of toys, one set with Legos and another set with dolls. In Python, you can represent these sets of toys using lists. For example:"
   ]
  },
  {
   "cell_type": "code",
   "execution_count": 1,
   "metadata": {},
   "outputs": [],
   "source": [
    "lego_set = [1, 2, 3]\n",
    "doll_set = [\"apple\", \"banana\", \"cherry\"]"
   ]
  },
  {
   "cell_type": "markdown",
   "metadata": {},
   "source": [
    "Now, what if you wanted to combine all your toys together to play with them? This is where the numpy.concatenate function comes in. It acts like a magic box that takes two (or more!) sets of things and combines them into one big set. In the world of NumPy (a library for working with numbers in Python), these sets of things are called arrays.\n",
    "\n",
    "#### Here's how you can use concatenate to combine your Lego and doll sets into a bigger one:"
   ]
  },
  {
   "cell_type": "code",
   "execution_count": 3,
   "metadata": {},
   "outputs": [
    {
     "name": "stdout",
     "output_type": "stream",
     "text": [
      "['1' '2' '3' 'apple' 'banana' 'cherry']\n"
     ]
    }
   ],
   "source": [
    "# This line imports NumPy, like a magic toolbox\n",
    "import numpy as np\n",
    "\n",
    "# Combine the Lego set and doll set into one big array\n",
    "combined_set = np.concatenate((lego_set, doll_set))\n",
    "\n",
    "# Now you have one big set of toys to play with!\n",
    "print(combined_set)\n"
   ]
  },
  {
   "cell_type": "markdown",
   "metadata": {},
   "source": [
    "#### Things to remember:\n",
    "\n",
    "- numpy.concatenate combines arrays along a specific direction, kind of like stacking building blocks. By default, it stacks them horizontally (side by side).\n",
    "- The arrays you combine need to have similar shapes, except for the stacking direction. In this case, both lego_set and doll_set are 1D arrays (one-dimensional), which works well.\n",
    "\n",
    "\n",
    "So, with concatenate, you can join your favorite toy sets, like Legos and dolls, into a giant set for even more fun!"
   ]
  },
  {
   "cell_type": "code",
   "execution_count": null,
   "metadata": {},
   "outputs": [],
   "source": []
  }
 ],
 "metadata": {
  "kernelspec": {
   "display_name": "mlpython3.8",
   "language": "python",
   "name": "python3"
  },
  "language_info": {
   "codemirror_mode": {
    "name": "ipython",
    "version": 3
   },
   "file_extension": ".py",
   "mimetype": "text/x-python",
   "name": "python",
   "nbconvert_exporter": "python",
   "pygments_lexer": "ipython3",
   "version": "3.8.19"
  }
 },
 "nbformat": 4,
 "nbformat_minor": 2
}

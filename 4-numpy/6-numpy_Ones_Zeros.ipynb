{
 "cells": [
  {
   "cell_type": "markdown",
   "metadata": {},
   "source": [
    "Let's build on your knowledge of Legos and imagine you want to build with brand new bricks! NumPy has two functions, np.ones and np.zeros, that are like magic machines that can create brand new bricks of a specific type, all at once.\n",
    "\n",
    "np.ones: This function creates an array filled with ones. Think of it as a machine that stamps out a bunch of shiny new 1-shaped Lego bricks!\n",
    "\n",
    "np.zeros: This function creates an array filled with zeros. Imagine a machine that builds a bunch of flat Lego plates, but instead of colors, they are all blank (represented by zeros).\n",
    "\n",
    "Here's how you can use them:"
   ]
  },
  {
   "cell_type": "code",
   "execution_count": null,
   "metadata": {},
   "outputs": [],
   "source": [
    "import numpy as np\n",
    "\n",
    "# Create a 5-brick row with all ones (shiny new Lego!)\n",
    "ones_row = np.ones(5)\n",
    "print(ones_row)  # This will print [1. 1. 1. 1. 1.]\n",
    "\n",
    "# Create a 2x3 grid with all zeros (flat Lego plates)\n",
    "zero_grid = np.zeros((2, 3))\n",
    "print(zero_grid)  # This will print [[0. 0. 0.] [0. 0. 0.]]\n"
   ]
  },
  {
   "cell_type": "markdown",
   "metadata": {},
   "source": [
    "Things to remember:\n",
    "\n",
    "You can control the size and shape of the arrays you create with np.ones and np.zeros. In the example, np.ones(5) creates a 1D array (one row) with 5 elements, and np.zeros((2, 3)) creates a 2D array (like a grid) with 2 rows and 3 columns.\n",
    "By default, these functions create arrays with floating-point numbers (like 1.0 or 0.0). You can specify a different data type if you want, like integers (whole numbers).\n"
   ]
  },
  {
   "cell_type": "markdown",
   "metadata": {},
   "source": []
  }
 ],
 "metadata": {
  "kernelspec": {
   "display_name": "mlpython3.8",
   "language": "python",
   "name": "python3"
  },
  "language_info": {
   "name": "python",
   "version": "3.8.19"
  }
 },
 "nbformat": 4,
 "nbformat_minor": 2
}

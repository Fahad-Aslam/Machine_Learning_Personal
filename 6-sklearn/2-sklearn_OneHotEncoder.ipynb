{
 "cells": [
  {
   "cell_type": "markdown",
   "metadata": {},
   "source": [
    "##### What is One-Hot Encoding?\n",
    "One-hot encoding is a process used to convert categorical data (like categories or labels) into a numerical format that machine learning models can understand better. It represents each category as a binary vector.\n",
    "\n",
    "---\n",
    "\n",
    "Step-by-Step Explanation\n",
    "Let's go through the steps using an example:\n",
    "\n",
    "##### Step 1: Install scikit-learn\n",
    "- First, make sure you have scikit-learn (sklearn) installed. You can install it using pip if you haven't already:"
   ]
  },
  {
   "cell_type": "markdown",
   "metadata": {},
   "source": [
    "---\n",
    "\n",
    "##### Step 2: Import the necessary modules\n",
    "- In Python, start by importing the required modules from scikit-learn:"
   ]
  },
  {
   "cell_type": "code",
   "execution_count": 5,
   "metadata": {},
   "outputs": [],
   "source": [
    "from sklearn.preprocessing import OneHotEncoder\n",
    "import numpy as np\n"
   ]
  },
  {
   "cell_type": "markdown",
   "metadata": {},
   "source": [
    "---\n",
    "\n",
    "##### Step 3: Create sample data\n",
    "- Let's create a simple dataset representing different categories. For example, let's say we have a list of fruits:"
   ]
  },
  {
   "cell_type": "code",
   "execution_count": 11,
   "metadata": {},
   "outputs": [],
   "source": [
    "fruits = ['apple', 'orange', 'banana', 'pear']"
   ]
  },
  {
   "cell_type": "markdown",
   "metadata": {},
   "source": [
    "---\n",
    "\n",
    "##### Step 4: Transform the data using OneHotEncoder\n",
    "- We'll use the OneHotEncoder to convert these categories into a one-hot encoded format. Here's how you can do it:"
   ]
  },
  {
   "cell_type": "code",
   "execution_count": 12,
   "metadata": {},
   "outputs": [
    {
     "name": "stdout",
     "output_type": "stream",
     "text": [
      "[[1. 0. 0. 0.]\n",
      " [0. 0. 1. 0.]\n",
      " [0. 1. 0. 0.]\n",
      " [0. 0. 0. 1.]]\n"
     ]
    },
    {
     "name": "stderr",
     "output_type": "stream",
     "text": [
      "/home/fahadaslam/anaconda3/envs/mlpython3.8/lib/python3.8/site-packages/sklearn/preprocessing/_encoders.py:975: FutureWarning: `sparse` was renamed to `sparse_output` in version 1.2 and will be removed in 1.4. `sparse_output` is ignored unless you leave `sparse` to its default value.\n",
      "  warnings.warn(\n"
     ]
    }
   ],
   "source": [
    "# Create an instance of OneHotEncoder\n",
    "encoder = OneHotEncoder(sparse=False)\n",
    "\n",
    "# Fit and transform the data\n",
    "encoded_fruits = encoder.fit_transform(np.array(fruits).reshape(-1, 1))\n",
    "\n",
    "# Print the encoded data\n",
    "print(encoded_fruits)\n"
   ]
  },
  {
   "cell_type": "markdown",
   "metadata": {},
   "source": [
    "In this code:\n",
    "\n",
    "- ```encoder.fit_transform()``` fits the encoder to your data (fruits) and transforms it into a one-hot encoded array.\n",
    "- ```np.array(fruits).reshape(-1, 1)``` converts the fruits list into a 2D array, which is required by the OneHotEncoder."
   ]
  },
  {
   "cell_type": "markdown",
   "metadata": {},
   "source": [
    "---\n",
    "\n",
    "##### Step 5: Understanding the Output\n",
    "- Let's break down what encoded_fruits would look like. Each row in the output corresponds to one of the original fruits. Each column corresponds to one of the unique categories across all fruits. The value at encoded_fruits[i, j] will be 1 if the fruit i corresponds to category j, and 0 otherwise.\n",
    "\n",
    "For instance, if fruits was ['apple', 'orange', 'banana', 'pear'], and the output was:\n",
    "\n",
    "```lua\n",
    "[[1. 0. 0. 0.]\n",
    " [0. 1. 0. 0.]\n",
    " [0. 0. 1. 0.]\n",
    " [0. 0. 0. 1.]]\n",
    "\n",
    "```\n",
    "\n",
    "- The first row [1. 0. 0. 0.] corresponds to 'apple'.\n",
    "- The second row [0. 1. 0. 0.] corresponds to 'orange'.\n",
    "- The third row [0. 0. 1. 0.] corresponds to 'banana'.\n",
    "- The fourth row [0. 0. 0. 1.] corresponds to 'pear'.\n",
    "\n",
    "Each column in the output represents a unique fruit category in a binary (one-hot encoded) format.\n",
    "\n",
    "---\n",
    "\n",
    "##### Conclusion\n",
    "- That's a basic overview of how to use OneHotEncoder from sklearn to convert categorical data into a numerical format suitable for machine learning models. This approach allows machine learning algorithms to process categorical data effectively."
   ]
  },
  {
   "cell_type": "code",
   "execution_count": null,
   "metadata": {},
   "outputs": [],
   "source": []
  }
 ],
 "metadata": {
  "kernelspec": {
   "display_name": "mlpython3.8",
   "language": "python",
   "name": "python3"
  },
  "language_info": {
   "codemirror_mode": {
    "name": "ipython",
    "version": 3
   },
   "file_extension": ".py",
   "mimetype": "text/x-python",
   "name": "python",
   "nbconvert_exporter": "python",
   "pygments_lexer": "ipython3",
   "version": "3.8.19"
  }
 },
 "nbformat": 4,
 "nbformat_minor": 2
}
